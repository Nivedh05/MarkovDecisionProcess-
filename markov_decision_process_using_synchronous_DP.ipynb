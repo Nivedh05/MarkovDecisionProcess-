{
  "nbformat": 4,
  "nbformat_minor": 0,
  "metadata": {
    "colab": {
      "provenance": []
    },
    "kernelspec": {
      "name": "python3",
      "display_name": "Python 3"
    },
    "language_info": {
      "name": "python"
    }
  },
  "cells": [
    {
      "cell_type": "code",
      "execution_count": 13,
      "metadata": {
        "id": "SdRdTbn2NTig"
      },
      "outputs": [],
      "source": [
        "import pandas as pd\n",
        "import numpy as np"
      ]
    },
    {
      "cell_type": "code",
      "source": [
        "#import data in the form of csv file\n",
        "trans_data = pd.read_csv('transitions_data.txt',header=None)\n",
        "#rd_data = pd.read_csv('rewards.csv',header=None)\n",
        "rwd_data = pd.read_csv('rewards.txt',header=None)\n",
        "#convert the pandas file into numpy array or matrix\n",
        "trans_data = trans_data.to_numpy()\n",
        "#t_data = pd.read_csv('transitions_data.csv',header=None)\n",
        "rwd_data = rwd_data.to_numpy()"
      ],
      "metadata": {
        "id": "4-mk_jJjTZoE"
      },
      "execution_count": 16,
      "outputs": []
    },
    {
      "cell_type": "code",
      "source": [
        "gamma = 0.9"
      ],
      "metadata": {
        "id": "pq3K7hAnVARo"
      },
      "execution_count": 20,
      "outputs": []
    },
    {
      "cell_type": "code",
      "source": [
        "transitions = {}\n",
        "len_data = trans_data.shape[0]\n",
        "td = trans_data\n",
        "for i in range(1,len_data):\n",
        "  if (td[i][0] in transitions):\n",
        "    if td[i][1] in transitions[td[i][0]]:\n",
        "      transitions[td[i][0]][td[i][1]].append((float(td[i][3]),td[i][2]))\n",
        "    else:\n",
        "      transitions[td[i][0]][td[i][1]] = [(float(td[i][3]),td[i][2])]\n",
        "  else:\n",
        "    transitions[td[i][0]] = {td[i][1]:[(float(td[i][3]),td[i][2])]}\n",
        "  print(trans_data.shape)\n",
        "for i in transitions.keys():\n",
        "  print(i)"
      ],
      "metadata": {
        "colab": {
          "base_uri": "https://localhost:8080/"
        },
        "id": "ivUl2owLVBZR",
        "outputId": "d422a8df-1a63-43b0-e70c-d876625da77b"
      },
      "execution_count": 33,
      "outputs": [
        {
          "output_type": "stream",
          "name": "stdout",
          "text": [
            "(110, 4)\n",
            "(110, 4)\n",
            "(110, 4)\n",
            "(110, 4)\n",
            "(110, 4)\n",
            "(110, 4)\n",
            "(110, 4)\n",
            "(110, 4)\n",
            "(110, 4)\n",
            "(110, 4)\n",
            "(110, 4)\n",
            "(110, 4)\n",
            "(110, 4)\n",
            "(110, 4)\n",
            "(110, 4)\n",
            "(110, 4)\n",
            "(110, 4)\n",
            "(110, 4)\n",
            "(110, 4)\n",
            "(110, 4)\n",
            "(110, 4)\n",
            "(110, 4)\n",
            "(110, 4)\n",
            "(110, 4)\n",
            "(110, 4)\n",
            "(110, 4)\n",
            "(110, 4)\n",
            "(110, 4)\n",
            "(110, 4)\n",
            "(110, 4)\n",
            "(110, 4)\n",
            "(110, 4)\n",
            "(110, 4)\n",
            "(110, 4)\n",
            "(110, 4)\n",
            "(110, 4)\n",
            "(110, 4)\n",
            "(110, 4)\n",
            "(110, 4)\n",
            "(110, 4)\n",
            "(110, 4)\n",
            "(110, 4)\n",
            "(110, 4)\n",
            "(110, 4)\n",
            "(110, 4)\n",
            "(110, 4)\n",
            "(110, 4)\n",
            "(110, 4)\n",
            "(110, 4)\n",
            "(110, 4)\n",
            "(110, 4)\n",
            "(110, 4)\n",
            "(110, 4)\n",
            "(110, 4)\n",
            "(110, 4)\n",
            "(110, 4)\n",
            "(110, 4)\n",
            "(110, 4)\n",
            "(110, 4)\n",
            "(110, 4)\n",
            "(110, 4)\n",
            "(110, 4)\n",
            "(110, 4)\n",
            "(110, 4)\n",
            "(110, 4)\n",
            "(110, 4)\n",
            "(110, 4)\n",
            "(110, 4)\n",
            "(110, 4)\n",
            "(110, 4)\n",
            "(110, 4)\n",
            "(110, 4)\n",
            "(110, 4)\n",
            "(110, 4)\n",
            "(110, 4)\n",
            "(110, 4)\n",
            "(110, 4)\n",
            "(110, 4)\n",
            "(110, 4)\n",
            "(110, 4)\n",
            "(110, 4)\n",
            "(110, 4)\n",
            "(110, 4)\n",
            "(110, 4)\n",
            "(110, 4)\n",
            "(110, 4)\n",
            "(110, 4)\n",
            "(110, 4)\n",
            "(110, 4)\n",
            "(110, 4)\n",
            "(110, 4)\n",
            "(110, 4)\n",
            "(110, 4)\n",
            "(110, 4)\n",
            "(110, 4)\n",
            "(110, 4)\n",
            "(110, 4)\n",
            "(110, 4)\n",
            "(110, 4)\n",
            "(110, 4)\n",
            "(110, 4)\n",
            "(110, 4)\n",
            "(110, 4)\n",
            "(110, 4)\n",
            "(110, 4)\n",
            "(110, 4)\n",
            "(110, 4)\n",
            "(110, 4)\n",
            "(110, 4)\n",
            "(3 0)\n",
            "(3 1)\n",
            "(1 0)\n",
            "(2 1)\n",
            "(1 2)\n",
            "(2 0)\n",
            "(3 2)\n",
            "(2 2)\n",
            "(0 1)\n",
            "(0 0)\n",
            "(0 2)\n"
          ]
        }
      ]
    },
    {
      "cell_type": "code",
      "source": [
        "rewards = {}\n",
        "rd = rwd_data\n",
        "len_rewards = rd.shape[0]\n",
        "for i in range(0,len_rewards):\n",
        "  rewards[rd[i][0]] = float(rd[i][1]) if rd[i][1] != 'None' else np.nan\n",
        "print(len(rewards.keys()))"
      ],
      "metadata": {
        "colab": {
          "base_uri": "https://localhost:8080/"
        },
        "id": "kiWDI_xJVHN4",
        "outputId": "15a425c3-0300-47e0-d457-6b600ae15129"
      },
      "execution_count": 32,
      "outputs": [
        {
          "output_type": "stream",
          "name": "stdout",
          "text": [
            "12\n"
          ]
        }
      ]
    },
    {
      "cell_type": "code",
      "source": [
        "rkeys = rewards.keys()\n",
        "tkeys = transitions.keys()\n",
        "st = ''\n",
        "st2 = ''\n",
        "for i in tkeys:\n",
        "  st += i + ' '\n",
        "for j in rkeys:\n",
        "  st2 += j + ' '\n",
        "print(st)\n",
        "print(st2)"
      ],
      "metadata": {
        "colab": {
          "base_uri": "https://localhost:8080/"
        },
        "id": "-Xfgd6H7VTeB",
        "outputId": "b218593e-6c06-40d1-a342-3f0ce189f870"
      },
      "execution_count": 25,
      "outputs": [
        {
          "output_type": "stream",
          "name": "stdout",
          "text": [
            "(3 0) (3 1) (1 0) (2 1) (1 2) (2 0) (3 2) (2 2) (0 1) (0 0) (0 2) \n",
            "(0 1) (3 0) (0 0) (1 0) (3 1) (1 1) (2 1) (1 2) (2 0) (3 2) (0 2) (2 2) \n"
          ]
        }
      ]
    },
    {
      "cell_type": "code",
      "source": [
        "class MarkovDecisionProcess:\n",
        "  def __init__(self, states=[], transition={}, reward={}, gamma=0.9):\n",
        "    self.states = states\n",
        "    self.transition = transition\n",
        "    self.reward = reward\n",
        "    self.gamma = gamma\n",
        "\n",
        "  def Rwd(self, state):\n",
        "    return self.reward[state]\n",
        "  \n",
        "  def Trans(self, state, action):\n",
        "    return self.transition[state][action]\n",
        "\n",
        "  def action(self, state):\n",
        "    return self.transition[state].keys()\n",
        "     "
      ],
      "metadata": {
        "id": "wPaa4mI8VYWx"
      },
      "execution_count": 26,
      "outputs": []
    },
    {
      "cell_type": "code",
      "source": [
        "Transitions = transitions\n",
        "Rewards = rewards\n",
        "States = transitions.keys()\n",
        "print(States)"
      ],
      "metadata": {
        "colab": {
          "base_uri": "https://localhost:8080/"
        },
        "id": "IF5W5t8rVbdi",
        "outputId": "c02dc94c-d400-4b3c-b207-3e97d6ee85f4"
      },
      "execution_count": 27,
      "outputs": [
        {
          "output_type": "stream",
          "name": "stdout",
          "text": [
            "dict_keys(['(3 0)', '(3 1)', '(1 0)', '(2 1)', '(1 2)', '(2 0)', '(3 2)', '(2 2)', '(0 1)', '(0 0)', '(0 2)'])\n"
          ]
        }
      ]
    },
    {
      "cell_type": "code",
      "source": [
        "mdp = MarkovDecisionProcess(states = States, transition = Transitions, reward = Rewards)\n",
        "epsilon = 0.2\n",
        "def val_iteration():\n",
        "  states = mdp.states\n",
        "  actions = mdp.action\n",
        "  Trans = mdp.Trans\n",
        "  Rwd = mdp.Rwd\n",
        "\n",
        "  #initializing the policy all with 0 value\n",
        "  V1 = {s: 0 for s in states}\n",
        "  while True:\n",
        "    V = V1.copy()\n",
        "    delta = 0 \n",
        "\n",
        "    for s in states:\n",
        "      #Synchrounous Bellman update, updating the utility values\n",
        "      #two times or nested list comprehension done two times\n",
        "      V1[s] = Rwd(s) + gamma * max([sum([p*V[s1] for (p,s1) in Trans(s,a)]) for a in actions(s)])\n",
        "      #calculating the max difference in subsequent iterations \n",
        "      delta = max(delta, abs(V1[s]-V[s]))\n",
        "\n",
        "    if (delta < epsilon*(1-gamma)/gamma):\n",
        "      return V"
      ],
      "metadata": {
        "id": "Ka80O1f-ViLb"
      },
      "execution_count": 28,
      "outputs": []
    },
    {
      "cell_type": "code",
      "source": [
        "def expected_utility(a,s,V):\n",
        "  Trans = mdp.Trans\n",
        "  return sum([p*V[s1] for (p,s1) in Trans(s,a)])"
      ],
      "metadata": {
        "id": "9aAX4a3lVnEP"
      },
      "execution_count": 29,
      "outputs": []
    },
    {
      "cell_type": "code",
      "source": [
        "\n",
        "def best_policy(V):\n",
        "  states = mdp.states\n",
        "  actions = mdp.action\n",
        "  pi_policy = {}\n",
        "  for s in states:\n",
        "    pi_policy[s] = max(actions(s), key=lambda a: expected_utility(a,s,V))\n",
        "  return pi_policy"
      ],
      "metadata": {
        "id": "LhaZyfsjVrvY"
      },
      "execution_count": 30,
      "outputs": []
    },
    {
      "cell_type": "code",
      "source": [
        "\n",
        "V = val_iteration()\n",
        "print(\"State-Value\")\n",
        "for s in V:\n",
        "  print(s,' - ',V[s])\n",
        "pi = best_policy(V)\n",
        "print(\"\\n Optimal policy is \\n State - Action \")\n",
        "for s in V:\n",
        "  print(s,\" \",'-',\" \",pi[s])"
      ],
      "metadata": {
        "colab": {
          "base_uri": "https://localhost:8080/"
        },
        "id": "3qsDNEwBVu7A",
        "outputId": "787c8173-f1e2-4676-aa6f-3149833514f1"
      },
      "execution_count": 31,
      "outputs": [
        {
          "output_type": "stream",
          "name": "stdout",
          "text": [
            "State-Value\n",
            "(3 0)  -  2.6118518779566258\n",
            "(3 1)  -  -10.0\n",
            "(1 0)  -  4.0484603014043845\n",
            "(2 1)  -  5.633133936112791\n",
            "(1 2)  -  7.348949178462026\n",
            "(2 0)  -  4.611938876757595\n",
            "(3 2)  -  10.0\n",
            "(2 2)  -  8.425245372413883\n",
            "(0 1)  -  5.49111436850307\n",
            "(0 0)  -  4.691426415451711\n",
            "(0 2)  -  6.312795272532248\n",
            "\n",
            " Optimal policy is \n",
            " State - Action \n",
            "(3 0)   -   L\n",
            "(3 1)   -   EXIT\n",
            "(1 0)   -   L\n",
            "(2 1)   -   U\n",
            "(1 2)   -   R\n",
            "(2 0)   -   U\n",
            "(3 2)   -   EXIT\n",
            "(2 2)   -   R\n",
            "(0 1)   -   U\n",
            "(0 0)   -   U\n",
            "(0 2)   -   R\n"
          ]
        }
      ]
    }
  ]
}